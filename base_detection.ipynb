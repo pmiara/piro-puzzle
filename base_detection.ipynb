{
 "cells": [
  {
   "cell_type": "code",
   "execution_count": null,
   "metadata": {},
   "outputs": [],
   "source": [
    "from base_detection import get_base\n",
    "from plot import plot_vertices_on_contour\n",
    "import numpy as np\n",
    "from skimage import io\n",
    "from skimage import measure\n",
    "from parameters import *"
   ]
  },
  {
   "cell_type": "code",
   "execution_count": null,
   "metadata": {
    "scrolled": false
   },
   "outputs": [],
   "source": [
    "images = [io.imread(\"{}/{}.png\".format(\"data/set8\", i)) for i in range(20)]\n",
    "for img in images:\n",
    "    contours = measure.find_contours(img, CONTOUR_THRESHOLD)\n",
    "    contour = max(contours, key=lambda arr: len(arr))\n",
    "    contour = np.rint(contour).astype('int')\n",
    "\n",
    "    base_a, base_b = get_base(contour)\n",
    "    plot_vertices_on_contour(contour, [base_a, base_b])"
   ]
  }
 ],
 "metadata": {
  "kernelspec": {
   "display_name": "Python 3",
   "language": "python",
   "name": "python3"
  },
  "language_info": {
   "codemirror_mode": {
    "name": "ipython",
    "version": 3
   },
   "file_extension": ".py",
   "mimetype": "text/x-python",
   "name": "python",
   "nbconvert_exporter": "python",
   "pygments_lexer": "ipython3",
   "version": "3.6.7"
  }
 },
 "nbformat": 4,
 "nbformat_minor": 2
}
