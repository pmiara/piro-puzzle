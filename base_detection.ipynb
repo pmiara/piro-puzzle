{
 "cells": [
  {
   "cell_type": "code",
   "execution_count": null,
   "metadata": {},
   "outputs": [],
   "source": [
    "import numpy as np\n",
    "import math\n",
    "from skimage import io, measure\n",
    "from itertools import combinations\n",
    "from skimage.draw import line\n",
    "from collections import defaultdict\n",
    "import matplotlib.pyplot as plt\n",
    "%matplotlib inline"
   ]
  },
  {
   "cell_type": "code",
   "execution_count": null,
   "metadata": {},
   "outputs": [],
   "source": [
    "CONTOUR_THRESHOLD = 1"
   ]
  },
  {
   "cell_type": "code",
   "execution_count": null,
   "metadata": {},
   "outputs": [],
   "source": [
    "def calc_right_angle_score(a, b, c):\n",
    "    return abs(90 - calc_angle(a, b, c))"
   ]
  },
  {
   "cell_type": "code",
   "execution_count": null,
   "metadata": {},
   "outputs": [],
   "source": [
    "def calc_angle(a, b, c):\n",
    "    ang = math.degrees(math.atan2(c[1]-b[1], c[0]-b[0]) - math.atan2(a[1]-b[1], a[0]-b[0]))\n",
    "    return ang + 360 if ang < 0 else ang"
   ]
  },
  {
   "cell_type": "code",
   "execution_count": null,
   "metadata": {},
   "outputs": [],
   "source": [
    "def score_vertices(contour):\n",
    "    vertex_scores = defaultdict(int)\n",
    "    deltas = [5, 10, 20, 30]\n",
    "    for delta in deltas:\n",
    "        for i, point in enumerate(contour):\n",
    "            point_prev = contour[(i - delta) % len(contour)]\n",
    "            point_next = contour[(i + delta) % len(contour)]\n",
    "            vertex_scores[i] += calc_right_angle_score(point_prev, point, point_next)\n",
    "    return vertex_scores"
   ]
  },
  {
   "cell_type": "code",
   "execution_count": null,
   "metadata": {},
   "outputs": [],
   "source": [
    "#TODO: check if two best angles are too close to each other and merge them if they do"
   ]
  },
  {
   "cell_type": "code",
   "execution_count": null,
   "metadata": {},
   "outputs": [],
   "source": [
    "def choose_best_vertices(vertices):\n",
    "    return sorted(vertices, key=vertices.get)[:20]"
   ]
  },
  {
   "cell_type": "code",
   "execution_count": null,
   "metadata": {},
   "outputs": [],
   "source": [
    "def plot_vertices_on_contour(contour, vertices):\n",
    "    plt.gca().set_aspect('equal')\n",
    "    plt.plot(contour[:, 1], contour[:, 0], linewidth=2)\n",
    "    for vertex in vertices:\n",
    "        plt.scatter(contour[vertex, 1], contour[vertex, 0], s=100)\n",
    "    plt.show()"
   ]
  },
  {
   "cell_type": "code",
   "execution_count": null,
   "metadata": {},
   "outputs": [],
   "source": [
    "def score_two_vertices(point_a, point_b):\n",
    "    y_a, x_a = point_a[0], point_a[1]\n",
    "    y_b, x_b = point_b[0], point_b[1]\n",
    "    rr, cc = line(y_a, x_a, y_b, x_b)\n",
    "    score = 0\n",
    "    for point in zip(rr, cc):\n",
    "        if point in contour_set:\n",
    "            score += 1\n",
    "    return score"
   ]
  },
  {
   "cell_type": "code",
   "execution_count": null,
   "metadata": {},
   "outputs": [],
   "source": [
    "def find_best_base_pair(contour, best_vertices):\n",
    "    best_score = 0\n",
    "    for a, b in combinations(best_vertices, 2):\n",
    "        score = score_two_vertices(contour[a], contour[b])\n",
    "        if score > best_score:\n",
    "            best_score = score\n",
    "            base_a, base_b = a, b\n",
    "    return base_a, base_b"
   ]
  },
  {
   "cell_type": "code",
   "execution_count": null,
   "metadata": {
    "scrolled": false
   },
   "outputs": [],
   "source": [
    "images = [io.imread(\"{}/{}.png\".format(\"data/set8\", i)) for i in range(20)]\n",
    "for img in images:\n",
    "    contours = measure.find_contours(img, CONTOUR_THRESHOLD)\n",
    "    contour = max(contours, key=lambda arr: len(arr))\n",
    "    contour = np.rint(contour).astype('int')\n",
    "    contour_set = {(y, x) for y, x in contour}\n",
    "\n",
    "    vertex_scores = score_vertices(contour)\n",
    "    best_vertices = choose_best_vertices(vertex_scores)\n",
    "    base_a, base_b = find_best_base_pair(contour, best_vertices)\n",
    "    plot_vertices_on_contour(contour, [base_a, base_b])"
   ]
  }
 ],
 "metadata": {
  "kernelspec": {
   "display_name": "Python 3",
   "language": "python",
   "name": "python3"
  },
  "language_info": {
   "codemirror_mode": {
    "name": "ipython",
    "version": 3
   },
   "file_extension": ".py",
   "mimetype": "text/x-python",
   "name": "python",
   "nbconvert_exporter": "python",
   "pygments_lexer": "ipython3",
   "version": "3.6.7"
  }
 },
 "nbformat": 4,
 "nbformat_minor": 2
}
