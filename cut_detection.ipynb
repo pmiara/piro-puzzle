{
 "cells": [
  {
   "cell_type": "code",
   "execution_count": null,
   "metadata": {},
   "outputs": [],
   "source": [
    "from plot import plot_vertices_on_contour\n",
    "from skimage import io\n",
    "\n",
    "from contour import get_contour\n",
    "from base_detection import get_base\n",
    "from cut_detection import get_cut"
   ]
  },
  {
   "cell_type": "code",
   "execution_count": null,
   "metadata": {
    "scrolled": false
   },
   "outputs": [],
   "source": [
    "images = [io.imread(\"{}/{}.png\".format(\"data/set3\", i)) for i in range(20)]\n",
    "for img in images:\n",
    "    contour = get_contour(img)\n",
    "    base_a, base_b = get_base(contour)\n",
    "    cut_start, cut_end = get_cut(contour, base_a, base_b)\n",
    "    plot_vertices_on_contour(contour, [base_a, base_b, cut_start, cut_end])"
   ]
  }
 ],
 "metadata": {
  "kernelspec": {
   "display_name": "Python 3",
   "language": "python",
   "name": "python3"
  },
  "language_info": {
   "codemirror_mode": {
    "name": "ipython",
    "version": 3
   },
   "file_extension": ".py",
   "mimetype": "text/x-python",
   "name": "python",
   "nbconvert_exporter": "python",
   "pygments_lexer": "ipython3",
   "version": "3.6.7"
  }
 },
 "nbformat": 4,
 "nbformat_minor": 2
}
