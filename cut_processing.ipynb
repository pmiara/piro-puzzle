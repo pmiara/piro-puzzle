{
 "cells": [
  {
   "cell_type": "code",
   "execution_count": null,
   "metadata": {},
   "outputs": [],
   "source": [
    "from skimage import io\n",
    "\n",
    "\n",
    "from contour import get_contour\n",
    "from base_detection import get_base\n",
    "from cut_detection import get_cut\n",
    "from cut_processing import get_cut_img, get_cut_indices, calc_rotation_parameters\n",
    "from plot import plot_img"
   ]
  },
  {
   "cell_type": "code",
   "execution_count": null,
   "metadata": {
    "scrolled": false
   },
   "outputs": [],
   "source": [
    "images = [io.imread(\"{}/{}.png\".format(\"data/set5\", i)) for i in range(20)]\n",
    "for img in images:\n",
    "    contour = get_contour(img)\n",
    "    base_a, base_b = get_base(contour)\n",
    "    cut_a, cut_b = get_cut(contour, base_a, base_b)\n",
    "    cut_indices = get_cut_indices(contour, base_a, base_b, cut_a, cut_b)\n",
    "    rotation_angle, base_center = calc_rotation_parameters(contour, base_a, base_b, cut_a)\n",
    "    cut_img = get_cut_img(img, contour, cut_indices, rotation_angle, base_center) \n",
    "    plot_img(cut_img)"
   ]
  }
 ],
 "metadata": {
  "kernelspec": {
   "display_name": "Python 3",
   "language": "python",
   "name": "python3"
  },
  "language_info": {
   "codemirror_mode": {
    "name": "ipython",
    "version": 3
   },
   "file_extension": ".py",
   "mimetype": "text/x-python",
   "name": "python",
   "nbconvert_exporter": "python",
   "pygments_lexer": "ipython3",
   "version": "3.6.7"
  }
 },
 "nbformat": 4,
 "nbformat_minor": 2
}
